{
 "cells": [
  {
   "cell_type": "code",
   "execution_count": null,
   "id": "c5a4ae22",
   "metadata": {},
   "outputs": [],
   "source": [
    "Performing Exploratory Data Analysis on Covid dataset to discover trends, patterns and relationships in the features or \n",
    "independent variables\n"
   ]
  },
  {
   "cell_type": "code",
   "execution_count": 1,
   "id": "87f5aea4",
   "metadata": {},
   "outputs": [],
   "source": [
    "# import libaries\n",
    "import pandas as pd\n",
    "import matplotlib.pyplot as plt\n",
    "import seaborn as sns\n",
    "%matplotlib inline"
   ]
  },
  {
   "cell_type": "code",
   "execution_count": 2,
   "id": "626fc6e5",
   "metadata": {},
   "outputs": [],
   "source": [
    "xls = pd.read_excel(r\"C:\\Users\\USER\\Documents\\OneCampus files\\Techtern Cohort4\\data\\covid_cases.xlsx\", sheet_name=['covid','Sheet1'])"
   ]
  },
  {
   "cell_type": "code",
   "execution_count": 3,
   "id": "4eb4325f",
   "metadata": {},
   "outputs": [],
   "source": [
    "df = xls['covid']"
   ]
  },
  {
   "cell_type": "markdown",
   "id": "e66306d8",
   "metadata": {},
   "source": [
    "### Exploratory Data Analysis"
   ]
  },
  {
   "cell_type": "code",
   "execution_count": 5,
   "id": "f4c8d50e",
   "metadata": {},
   "outputs": [
    {
     "data": {
      "text/plain": [
       "(566602, 23)"
      ]
     },
     "execution_count": 5,
     "metadata": {},
     "output_type": "execute_result"
    }
   ],
   "source": [
    "df.shape"
   ]
  },
  {
   "cell_type": "code",
   "execution_count": 12,
   "id": "9200e819",
   "metadata": {},
   "outputs": [
    {
     "data": {
      "text/html": [
       "<div>\n",
       "<style scoped>\n",
       "    .dataframe tbody tr th:only-of-type {\n",
       "        vertical-align: middle;\n",
       "    }\n",
       "\n",
       "    .dataframe tbody tr th {\n",
       "        vertical-align: top;\n",
       "    }\n",
       "\n",
       "    .dataframe thead th {\n",
       "        text-align: right;\n",
       "    }\n",
       "</style>\n",
       "<table border=\"1\" class=\"dataframe\">\n",
       "  <thead>\n",
       "    <tr style=\"text-align: right;\">\n",
       "      <th></th>\n",
       "      <th>id</th>\n",
       "      <th>sex</th>\n",
       "      <th>patient_type</th>\n",
       "      <th>entry_date</th>\n",
       "      <th>date_symptoms</th>\n",
       "      <th>date_died</th>\n",
       "      <th>intubed</th>\n",
       "      <th>pneumonia</th>\n",
       "      <th>age</th>\n",
       "      <th>pregnancy</th>\n",
       "      <th>...</th>\n",
       "      <th>inmsupr</th>\n",
       "      <th>hypertension</th>\n",
       "      <th>other_disease</th>\n",
       "      <th>cardiovascular</th>\n",
       "      <th>obesity</th>\n",
       "      <th>renal_chronic</th>\n",
       "      <th>tobacco</th>\n",
       "      <th>contact_other_covid</th>\n",
       "      <th>covid_res</th>\n",
       "      <th>icu</th>\n",
       "    </tr>\n",
       "  </thead>\n",
       "  <tbody>\n",
       "    <tr>\n",
       "      <th>0</th>\n",
       "      <td>16169f</td>\n",
       "      <td>2</td>\n",
       "      <td>1</td>\n",
       "      <td>2020-04-05 00:00:00</td>\n",
       "      <td>2020-02-05 00:00:00</td>\n",
       "      <td>9999-99-99</td>\n",
       "      <td>97</td>\n",
       "      <td>2</td>\n",
       "      <td>27</td>\n",
       "      <td>97</td>\n",
       "      <td>...</td>\n",
       "      <td>2</td>\n",
       "      <td>2</td>\n",
       "      <td>2</td>\n",
       "      <td>2</td>\n",
       "      <td>2</td>\n",
       "      <td>2</td>\n",
       "      <td>2</td>\n",
       "      <td>2</td>\n",
       "      <td>1</td>\n",
       "      <td>97</td>\n",
       "    </tr>\n",
       "    <tr>\n",
       "      <th>1</th>\n",
       "      <td>1009bf</td>\n",
       "      <td>2</td>\n",
       "      <td>1</td>\n",
       "      <td>19-03-2020</td>\n",
       "      <td>17-03-2020</td>\n",
       "      <td>9999-99-99</td>\n",
       "      <td>97</td>\n",
       "      <td>2</td>\n",
       "      <td>24</td>\n",
       "      <td>97</td>\n",
       "      <td>...</td>\n",
       "      <td>2</td>\n",
       "      <td>2</td>\n",
       "      <td>2</td>\n",
       "      <td>2</td>\n",
       "      <td>2</td>\n",
       "      <td>2</td>\n",
       "      <td>2</td>\n",
       "      <td>99</td>\n",
       "      <td>1</td>\n",
       "      <td>97</td>\n",
       "    </tr>\n",
       "    <tr>\n",
       "      <th>2</th>\n",
       "      <td>167386</td>\n",
       "      <td>1</td>\n",
       "      <td>2</td>\n",
       "      <td>2020-06-04 00:00:00</td>\n",
       "      <td>2020-01-04 00:00:00</td>\n",
       "      <td>9999-99-99</td>\n",
       "      <td>2</td>\n",
       "      <td>2</td>\n",
       "      <td>54</td>\n",
       "      <td>2</td>\n",
       "      <td>...</td>\n",
       "      <td>2</td>\n",
       "      <td>2</td>\n",
       "      <td>2</td>\n",
       "      <td>2</td>\n",
       "      <td>1</td>\n",
       "      <td>2</td>\n",
       "      <td>2</td>\n",
       "      <td>99</td>\n",
       "      <td>1</td>\n",
       "      <td>2</td>\n",
       "    </tr>\n",
       "    <tr>\n",
       "      <th>3</th>\n",
       "      <td>0b5948</td>\n",
       "      <td>2</td>\n",
       "      <td>2</td>\n",
       "      <td>17-04-2020</td>\n",
       "      <td>2020-10-04 00:00:00</td>\n",
       "      <td>9999-99-99</td>\n",
       "      <td>2</td>\n",
       "      <td>1</td>\n",
       "      <td>30</td>\n",
       "      <td>97</td>\n",
       "      <td>...</td>\n",
       "      <td>2</td>\n",
       "      <td>2</td>\n",
       "      <td>2</td>\n",
       "      <td>2</td>\n",
       "      <td>2</td>\n",
       "      <td>2</td>\n",
       "      <td>2</td>\n",
       "      <td>99</td>\n",
       "      <td>1</td>\n",
       "      <td>2</td>\n",
       "    </tr>\n",
       "    <tr>\n",
       "      <th>4</th>\n",
       "      <td>0d01b5</td>\n",
       "      <td>1</td>\n",
       "      <td>2</td>\n",
       "      <td>13-04-2020</td>\n",
       "      <td>13-04-2020</td>\n",
       "      <td>22-04-2020</td>\n",
       "      <td>2</td>\n",
       "      <td>2</td>\n",
       "      <td>60</td>\n",
       "      <td>2</td>\n",
       "      <td>...</td>\n",
       "      <td>2</td>\n",
       "      <td>1</td>\n",
       "      <td>2</td>\n",
       "      <td>1</td>\n",
       "      <td>2</td>\n",
       "      <td>2</td>\n",
       "      <td>2</td>\n",
       "      <td>99</td>\n",
       "      <td>1</td>\n",
       "      <td>2</td>\n",
       "    </tr>\n",
       "  </tbody>\n",
       "</table>\n",
       "<p>5 rows × 23 columns</p>\n",
       "</div>"
      ],
      "text/plain": [
       "       id  sex  patient_type           entry_date        date_symptoms  \\\n",
       "0  16169f    2             1  2020-04-05 00:00:00  2020-02-05 00:00:00   \n",
       "1  1009bf    2             1           19-03-2020           17-03-2020   \n",
       "2  167386    1             2  2020-06-04 00:00:00  2020-01-04 00:00:00   \n",
       "3  0b5948    2             2           17-04-2020  2020-10-04 00:00:00   \n",
       "4  0d01b5    1             2           13-04-2020           13-04-2020   \n",
       "\n",
       "    date_died  intubed  pneumonia  age  pregnancy  ...  inmsupr  hypertension  \\\n",
       "0  9999-99-99       97          2   27         97  ...        2             2   \n",
       "1  9999-99-99       97          2   24         97  ...        2             2   \n",
       "2  9999-99-99        2          2   54          2  ...        2             2   \n",
       "3  9999-99-99        2          1   30         97  ...        2             2   \n",
       "4  22-04-2020        2          2   60          2  ...        2             1   \n",
       "\n",
       "   other_disease  cardiovascular  obesity  renal_chronic  tobacco  \\\n",
       "0              2               2        2              2        2   \n",
       "1              2               2        2              2        2   \n",
       "2              2               2        1              2        2   \n",
       "3              2               2        2              2        2   \n",
       "4              2               1        2              2        2   \n",
       "\n",
       "   contact_other_covid  covid_res  icu  \n",
       "0                    2          1   97  \n",
       "1                   99          1   97  \n",
       "2                   99          1    2  \n",
       "3                   99          1    2  \n",
       "4                   99          1    2  \n",
       "\n",
       "[5 rows x 23 columns]"
      ]
     },
     "execution_count": 12,
     "metadata": {},
     "output_type": "execute_result"
    }
   ],
   "source": [
    "df.head()"
   ]
  },
  {
   "cell_type": "code",
   "execution_count": 13,
   "id": "470f57c7",
   "metadata": {},
   "outputs": [
    {
     "data": {
      "text/html": [
       "<div>\n",
       "<style scoped>\n",
       "    .dataframe tbody tr th:only-of-type {\n",
       "        vertical-align: middle;\n",
       "    }\n",
       "\n",
       "    .dataframe tbody tr th {\n",
       "        vertical-align: top;\n",
       "    }\n",
       "\n",
       "    .dataframe thead th {\n",
       "        text-align: right;\n",
       "    }\n",
       "</style>\n",
       "<table border=\"1\" class=\"dataframe\">\n",
       "  <thead>\n",
       "    <tr style=\"text-align: right;\">\n",
       "      <th></th>\n",
       "      <th>id</th>\n",
       "      <th>sex</th>\n",
       "      <th>patient_type</th>\n",
       "      <th>entry_date</th>\n",
       "      <th>date_symptoms</th>\n",
       "      <th>date_died</th>\n",
       "      <th>intubed</th>\n",
       "      <th>pneumonia</th>\n",
       "      <th>age</th>\n",
       "      <th>pregnancy</th>\n",
       "      <th>...</th>\n",
       "      <th>inmsupr</th>\n",
       "      <th>hypertension</th>\n",
       "      <th>other_disease</th>\n",
       "      <th>cardiovascular</th>\n",
       "      <th>obesity</th>\n",
       "      <th>renal_chronic</th>\n",
       "      <th>tobacco</th>\n",
       "      <th>contact_other_covid</th>\n",
       "      <th>covid_res</th>\n",
       "      <th>icu</th>\n",
       "    </tr>\n",
       "  </thead>\n",
       "  <tbody>\n",
       "    <tr>\n",
       "      <th>168839</th>\n",
       "      <td>1de41f</td>\n",
       "      <td>1</td>\n",
       "      <td>1</td>\n",
       "      <td>16-06-2020</td>\n",
       "      <td>16-06-2020</td>\n",
       "      <td>9999-99-99</td>\n",
       "      <td>97</td>\n",
       "      <td>2</td>\n",
       "      <td>0</td>\n",
       "      <td>2</td>\n",
       "      <td>...</td>\n",
       "      <td>2</td>\n",
       "      <td>2</td>\n",
       "      <td>2</td>\n",
       "      <td>2</td>\n",
       "      <td>2</td>\n",
       "      <td>2</td>\n",
       "      <td>2</td>\n",
       "      <td>99</td>\n",
       "      <td>1</td>\n",
       "      <td>97</td>\n",
       "    </tr>\n",
       "    <tr>\n",
       "      <th>39488</th>\n",
       "      <td>0b389e</td>\n",
       "      <td>2</td>\n",
       "      <td>1</td>\n",
       "      <td>18-05-2020</td>\n",
       "      <td>18-05-2020</td>\n",
       "      <td>9999-99-99</td>\n",
       "      <td>97</td>\n",
       "      <td>2</td>\n",
       "      <td>45</td>\n",
       "      <td>97</td>\n",
       "      <td>...</td>\n",
       "      <td>2</td>\n",
       "      <td>2</td>\n",
       "      <td>2</td>\n",
       "      <td>2</td>\n",
       "      <td>1</td>\n",
       "      <td>2</td>\n",
       "      <td>2</td>\n",
       "      <td>1</td>\n",
       "      <td>1</td>\n",
       "      <td>97</td>\n",
       "    </tr>\n",
       "    <tr>\n",
       "      <th>244829</th>\n",
       "      <td>068c52</td>\n",
       "      <td>2</td>\n",
       "      <td>1</td>\n",
       "      <td>2020-12-05 00:00:00</td>\n",
       "      <td>2020-10-05 00:00:00</td>\n",
       "      <td>9999-99-99</td>\n",
       "      <td>97</td>\n",
       "      <td>2</td>\n",
       "      <td>28</td>\n",
       "      <td>97</td>\n",
       "      <td>...</td>\n",
       "      <td>2</td>\n",
       "      <td>2</td>\n",
       "      <td>2</td>\n",
       "      <td>2</td>\n",
       "      <td>1</td>\n",
       "      <td>2</td>\n",
       "      <td>2</td>\n",
       "      <td>2</td>\n",
       "      <td>2</td>\n",
       "      <td>97</td>\n",
       "    </tr>\n",
       "    <tr>\n",
       "      <th>454756</th>\n",
       "      <td>0d5c23</td>\n",
       "      <td>1</td>\n",
       "      <td>1</td>\n",
       "      <td>30-03-2020</td>\n",
       "      <td>27-03-2020</td>\n",
       "      <td>9999-99-99</td>\n",
       "      <td>97</td>\n",
       "      <td>2</td>\n",
       "      <td>3</td>\n",
       "      <td>2</td>\n",
       "      <td>...</td>\n",
       "      <td>2</td>\n",
       "      <td>2</td>\n",
       "      <td>1</td>\n",
       "      <td>2</td>\n",
       "      <td>2</td>\n",
       "      <td>2</td>\n",
       "      <td>2</td>\n",
       "      <td>2</td>\n",
       "      <td>2</td>\n",
       "      <td>97</td>\n",
       "    </tr>\n",
       "    <tr>\n",
       "      <th>483119</th>\n",
       "      <td>54711</td>\n",
       "      <td>1</td>\n",
       "      <td>1</td>\n",
       "      <td>19-05-2020</td>\n",
       "      <td>16-05-2020</td>\n",
       "      <td>9999-99-99</td>\n",
       "      <td>97</td>\n",
       "      <td>2</td>\n",
       "      <td>21</td>\n",
       "      <td>2</td>\n",
       "      <td>...</td>\n",
       "      <td>2</td>\n",
       "      <td>2</td>\n",
       "      <td>2</td>\n",
       "      <td>2</td>\n",
       "      <td>2</td>\n",
       "      <td>2</td>\n",
       "      <td>2</td>\n",
       "      <td>1</td>\n",
       "      <td>2</td>\n",
       "      <td>97</td>\n",
       "    </tr>\n",
       "    <tr>\n",
       "      <th>352536</th>\n",
       "      <td>176d39</td>\n",
       "      <td>2</td>\n",
       "      <td>1</td>\n",
       "      <td>2020-11-05 00:00:00</td>\n",
       "      <td>2020-08-05 00:00:00</td>\n",
       "      <td>9999-99-99</td>\n",
       "      <td>97</td>\n",
       "      <td>2</td>\n",
       "      <td>38</td>\n",
       "      <td>97</td>\n",
       "      <td>...</td>\n",
       "      <td>2</td>\n",
       "      <td>2</td>\n",
       "      <td>2</td>\n",
       "      <td>2</td>\n",
       "      <td>2</td>\n",
       "      <td>2</td>\n",
       "      <td>2</td>\n",
       "      <td>1</td>\n",
       "      <td>2</td>\n",
       "      <td>97</td>\n",
       "    </tr>\n",
       "    <tr>\n",
       "      <th>528280</th>\n",
       "      <td>003c67</td>\n",
       "      <td>2</td>\n",
       "      <td>1</td>\n",
       "      <td>29-06-2020</td>\n",
       "      <td>15-06-2020</td>\n",
       "      <td>9999-99-99</td>\n",
       "      <td>97</td>\n",
       "      <td>2</td>\n",
       "      <td>38</td>\n",
       "      <td>97</td>\n",
       "      <td>...</td>\n",
       "      <td>2</td>\n",
       "      <td>2</td>\n",
       "      <td>2</td>\n",
       "      <td>2</td>\n",
       "      <td>2</td>\n",
       "      <td>2</td>\n",
       "      <td>1</td>\n",
       "      <td>1</td>\n",
       "      <td>3</td>\n",
       "      <td>97</td>\n",
       "    </tr>\n",
       "    <tr>\n",
       "      <th>459706</th>\n",
       "      <td>12f0be</td>\n",
       "      <td>2</td>\n",
       "      <td>1</td>\n",
       "      <td>2020-06-06 00:00:00</td>\n",
       "      <td>2020-06-06 00:00:00</td>\n",
       "      <td>9999-99-99</td>\n",
       "      <td>97</td>\n",
       "      <td>2</td>\n",
       "      <td>37</td>\n",
       "      <td>97</td>\n",
       "      <td>...</td>\n",
       "      <td>2</td>\n",
       "      <td>2</td>\n",
       "      <td>2</td>\n",
       "      <td>2</td>\n",
       "      <td>2</td>\n",
       "      <td>2</td>\n",
       "      <td>2</td>\n",
       "      <td>1</td>\n",
       "      <td>2</td>\n",
       "      <td>97</td>\n",
       "    </tr>\n",
       "    <tr>\n",
       "      <th>101602</th>\n",
       "      <td>0941a8</td>\n",
       "      <td>1</td>\n",
       "      <td>1</td>\n",
       "      <td>30-04-2020</td>\n",
       "      <td>20-04-2020</td>\n",
       "      <td>9999-99-99</td>\n",
       "      <td>97</td>\n",
       "      <td>2</td>\n",
       "      <td>31</td>\n",
       "      <td>2</td>\n",
       "      <td>...</td>\n",
       "      <td>2</td>\n",
       "      <td>2</td>\n",
       "      <td>2</td>\n",
       "      <td>2</td>\n",
       "      <td>2</td>\n",
       "      <td>2</td>\n",
       "      <td>2</td>\n",
       "      <td>1</td>\n",
       "      <td>1</td>\n",
       "      <td>97</td>\n",
       "    </tr>\n",
       "    <tr>\n",
       "      <th>513996</th>\n",
       "      <td>1e02da</td>\n",
       "      <td>1</td>\n",
       "      <td>1</td>\n",
       "      <td>26-06-2020</td>\n",
       "      <td>23-06-2020</td>\n",
       "      <td>9999-99-99</td>\n",
       "      <td>97</td>\n",
       "      <td>2</td>\n",
       "      <td>36</td>\n",
       "      <td>2</td>\n",
       "      <td>...</td>\n",
       "      <td>2</td>\n",
       "      <td>2</td>\n",
       "      <td>2</td>\n",
       "      <td>2</td>\n",
       "      <td>2</td>\n",
       "      <td>2</td>\n",
       "      <td>2</td>\n",
       "      <td>1</td>\n",
       "      <td>3</td>\n",
       "      <td>97</td>\n",
       "    </tr>\n",
       "    <tr>\n",
       "      <th>556153</th>\n",
       "      <td>09724f</td>\n",
       "      <td>1</td>\n",
       "      <td>1</td>\n",
       "      <td>29-06-2020</td>\n",
       "      <td>28-06-2020</td>\n",
       "      <td>9999-99-99</td>\n",
       "      <td>97</td>\n",
       "      <td>2</td>\n",
       "      <td>47</td>\n",
       "      <td>2</td>\n",
       "      <td>...</td>\n",
       "      <td>2</td>\n",
       "      <td>2</td>\n",
       "      <td>2</td>\n",
       "      <td>2</td>\n",
       "      <td>2</td>\n",
       "      <td>2</td>\n",
       "      <td>2</td>\n",
       "      <td>2</td>\n",
       "      <td>3</td>\n",
       "      <td>97</td>\n",
       "    </tr>\n",
       "    <tr>\n",
       "      <th>199723</th>\n",
       "      <td>1a4cc7</td>\n",
       "      <td>1</td>\n",
       "      <td>1</td>\n",
       "      <td>28-05-2020</td>\n",
       "      <td>25-05-2020</td>\n",
       "      <td>9999-99-99</td>\n",
       "      <td>97</td>\n",
       "      <td>2</td>\n",
       "      <td>37</td>\n",
       "      <td>2</td>\n",
       "      <td>...</td>\n",
       "      <td>2</td>\n",
       "      <td>2</td>\n",
       "      <td>2</td>\n",
       "      <td>2</td>\n",
       "      <td>2</td>\n",
       "      <td>2</td>\n",
       "      <td>2</td>\n",
       "      <td>99</td>\n",
       "      <td>1</td>\n",
       "      <td>97</td>\n",
       "    </tr>\n",
       "    <tr>\n",
       "      <th>301473</th>\n",
       "      <td>01d6e0</td>\n",
       "      <td>2</td>\n",
       "      <td>1</td>\n",
       "      <td>2020-02-06 00:00:00</td>\n",
       "      <td>30-05-2020</td>\n",
       "      <td>9999-99-99</td>\n",
       "      <td>97</td>\n",
       "      <td>2</td>\n",
       "      <td>36</td>\n",
       "      <td>97</td>\n",
       "      <td>...</td>\n",
       "      <td>2</td>\n",
       "      <td>2</td>\n",
       "      <td>2</td>\n",
       "      <td>2</td>\n",
       "      <td>2</td>\n",
       "      <td>2</td>\n",
       "      <td>2</td>\n",
       "      <td>2</td>\n",
       "      <td>2</td>\n",
       "      <td>97</td>\n",
       "    </tr>\n",
       "    <tr>\n",
       "      <th>342201</th>\n",
       "      <td>00c8f6</td>\n",
       "      <td>2</td>\n",
       "      <td>2</td>\n",
       "      <td>23-04-2020</td>\n",
       "      <td>21-04-2020</td>\n",
       "      <td>9999-99-99</td>\n",
       "      <td>2</td>\n",
       "      <td>2</td>\n",
       "      <td>50</td>\n",
       "      <td>97</td>\n",
       "      <td>...</td>\n",
       "      <td>2</td>\n",
       "      <td>2</td>\n",
       "      <td>2</td>\n",
       "      <td>2</td>\n",
       "      <td>2</td>\n",
       "      <td>2</td>\n",
       "      <td>2</td>\n",
       "      <td>2</td>\n",
       "      <td>2</td>\n",
       "      <td>2</td>\n",
       "    </tr>\n",
       "    <tr>\n",
       "      <th>306443</th>\n",
       "      <td>0db51c</td>\n",
       "      <td>1</td>\n",
       "      <td>1</td>\n",
       "      <td>23-05-2020</td>\n",
       "      <td>21-05-2020</td>\n",
       "      <td>9999-99-99</td>\n",
       "      <td>97</td>\n",
       "      <td>2</td>\n",
       "      <td>52</td>\n",
       "      <td>2</td>\n",
       "      <td>...</td>\n",
       "      <td>2</td>\n",
       "      <td>2</td>\n",
       "      <td>2</td>\n",
       "      <td>2</td>\n",
       "      <td>2</td>\n",
       "      <td>2</td>\n",
       "      <td>2</td>\n",
       "      <td>2</td>\n",
       "      <td>2</td>\n",
       "      <td>97</td>\n",
       "    </tr>\n",
       "    <tr>\n",
       "      <th>65876</th>\n",
       "      <td>19199e</td>\n",
       "      <td>2</td>\n",
       "      <td>1</td>\n",
       "      <td>20-05-2020</td>\n",
       "      <td>2020-11-05 00:00:00</td>\n",
       "      <td>9999-99-99</td>\n",
       "      <td>97</td>\n",
       "      <td>2</td>\n",
       "      <td>54</td>\n",
       "      <td>97</td>\n",
       "      <td>...</td>\n",
       "      <td>2</td>\n",
       "      <td>1</td>\n",
       "      <td>2</td>\n",
       "      <td>2</td>\n",
       "      <td>2</td>\n",
       "      <td>2</td>\n",
       "      <td>2</td>\n",
       "      <td>2</td>\n",
       "      <td>1</td>\n",
       "      <td>97</td>\n",
       "    </tr>\n",
       "    <tr>\n",
       "      <th>42795</th>\n",
       "      <td>02ae78</td>\n",
       "      <td>2</td>\n",
       "      <td>1</td>\n",
       "      <td>17-04-2020</td>\n",
       "      <td>17-04-2020</td>\n",
       "      <td>2020-08-05 00:00:00</td>\n",
       "      <td>97</td>\n",
       "      <td>1</td>\n",
       "      <td>56</td>\n",
       "      <td>97</td>\n",
       "      <td>...</td>\n",
       "      <td>2</td>\n",
       "      <td>2</td>\n",
       "      <td>2</td>\n",
       "      <td>2</td>\n",
       "      <td>2</td>\n",
       "      <td>2</td>\n",
       "      <td>2</td>\n",
       "      <td>2</td>\n",
       "      <td>1</td>\n",
       "      <td>97</td>\n",
       "    </tr>\n",
       "    <tr>\n",
       "      <th>220567</th>\n",
       "      <td>150733</td>\n",
       "      <td>2</td>\n",
       "      <td>2</td>\n",
       "      <td>24-05-2020</td>\n",
       "      <td>21-05-2020</td>\n",
       "      <td>2020-01-06 00:00:00</td>\n",
       "      <td>2</td>\n",
       "      <td>1</td>\n",
       "      <td>57</td>\n",
       "      <td>97</td>\n",
       "      <td>...</td>\n",
       "      <td>2</td>\n",
       "      <td>2</td>\n",
       "      <td>2</td>\n",
       "      <td>2</td>\n",
       "      <td>2</td>\n",
       "      <td>2</td>\n",
       "      <td>2</td>\n",
       "      <td>99</td>\n",
       "      <td>1</td>\n",
       "      <td>2</td>\n",
       "    </tr>\n",
       "    <tr>\n",
       "      <th>250506</th>\n",
       "      <td>06c605</td>\n",
       "      <td>2</td>\n",
       "      <td>1</td>\n",
       "      <td>25-05-2020</td>\n",
       "      <td>25-05-2020</td>\n",
       "      <td>9999-99-99</td>\n",
       "      <td>97</td>\n",
       "      <td>2</td>\n",
       "      <td>24</td>\n",
       "      <td>97</td>\n",
       "      <td>...</td>\n",
       "      <td>2</td>\n",
       "      <td>2</td>\n",
       "      <td>2</td>\n",
       "      <td>2</td>\n",
       "      <td>2</td>\n",
       "      <td>2</td>\n",
       "      <td>1</td>\n",
       "      <td>1</td>\n",
       "      <td>2</td>\n",
       "      <td>97</td>\n",
       "    </tr>\n",
       "    <tr>\n",
       "      <th>431542</th>\n",
       "      <td>0e8f92</td>\n",
       "      <td>2</td>\n",
       "      <td>1</td>\n",
       "      <td>26-06-2020</td>\n",
       "      <td>23-06-2020</td>\n",
       "      <td>9999-99-99</td>\n",
       "      <td>97</td>\n",
       "      <td>2</td>\n",
       "      <td>11</td>\n",
       "      <td>97</td>\n",
       "      <td>...</td>\n",
       "      <td>2</td>\n",
       "      <td>2</td>\n",
       "      <td>2</td>\n",
       "      <td>2</td>\n",
       "      <td>2</td>\n",
       "      <td>2</td>\n",
       "      <td>2</td>\n",
       "      <td>2</td>\n",
       "      <td>2</td>\n",
       "      <td>97</td>\n",
       "    </tr>\n",
       "  </tbody>\n",
       "</table>\n",
       "<p>20 rows × 23 columns</p>\n",
       "</div>"
      ],
      "text/plain": [
       "            id  sex  patient_type           entry_date        date_symptoms  \\\n",
       "168839  1de41f    1             1           16-06-2020           16-06-2020   \n",
       "39488   0b389e    2             1           18-05-2020           18-05-2020   \n",
       "244829  068c52    2             1  2020-12-05 00:00:00  2020-10-05 00:00:00   \n",
       "454756  0d5c23    1             1           30-03-2020           27-03-2020   \n",
       "483119   54711    1             1           19-05-2020           16-05-2020   \n",
       "352536  176d39    2             1  2020-11-05 00:00:00  2020-08-05 00:00:00   \n",
       "528280  003c67    2             1           29-06-2020           15-06-2020   \n",
       "459706  12f0be    2             1  2020-06-06 00:00:00  2020-06-06 00:00:00   \n",
       "101602  0941a8    1             1           30-04-2020           20-04-2020   \n",
       "513996  1e02da    1             1           26-06-2020           23-06-2020   \n",
       "556153  09724f    1             1           29-06-2020           28-06-2020   \n",
       "199723  1a4cc7    1             1           28-05-2020           25-05-2020   \n",
       "301473  01d6e0    2             1  2020-02-06 00:00:00           30-05-2020   \n",
       "342201  00c8f6    2             2           23-04-2020           21-04-2020   \n",
       "306443  0db51c    1             1           23-05-2020           21-05-2020   \n",
       "65876   19199e    2             1           20-05-2020  2020-11-05 00:00:00   \n",
       "42795   02ae78    2             1           17-04-2020           17-04-2020   \n",
       "220567  150733    2             2           24-05-2020           21-05-2020   \n",
       "250506  06c605    2             1           25-05-2020           25-05-2020   \n",
       "431542  0e8f92    2             1           26-06-2020           23-06-2020   \n",
       "\n",
       "                  date_died  intubed  pneumonia  age  pregnancy  ...  inmsupr  \\\n",
       "168839           9999-99-99       97          2    0          2  ...        2   \n",
       "39488            9999-99-99       97          2   45         97  ...        2   \n",
       "244829           9999-99-99       97          2   28         97  ...        2   \n",
       "454756           9999-99-99       97          2    3          2  ...        2   \n",
       "483119           9999-99-99       97          2   21          2  ...        2   \n",
       "352536           9999-99-99       97          2   38         97  ...        2   \n",
       "528280           9999-99-99       97          2   38         97  ...        2   \n",
       "459706           9999-99-99       97          2   37         97  ...        2   \n",
       "101602           9999-99-99       97          2   31          2  ...        2   \n",
       "513996           9999-99-99       97          2   36          2  ...        2   \n",
       "556153           9999-99-99       97          2   47          2  ...        2   \n",
       "199723           9999-99-99       97          2   37          2  ...        2   \n",
       "301473           9999-99-99       97          2   36         97  ...        2   \n",
       "342201           9999-99-99        2          2   50         97  ...        2   \n",
       "306443           9999-99-99       97          2   52          2  ...        2   \n",
       "65876            9999-99-99       97          2   54         97  ...        2   \n",
       "42795   2020-08-05 00:00:00       97          1   56         97  ...        2   \n",
       "220567  2020-01-06 00:00:00        2          1   57         97  ...        2   \n",
       "250506           9999-99-99       97          2   24         97  ...        2   \n",
       "431542           9999-99-99       97          2   11         97  ...        2   \n",
       "\n",
       "        hypertension  other_disease  cardiovascular  obesity  renal_chronic  \\\n",
       "168839             2              2               2        2              2   \n",
       "39488              2              2               2        1              2   \n",
       "244829             2              2               2        1              2   \n",
       "454756             2              1               2        2              2   \n",
       "483119             2              2               2        2              2   \n",
       "352536             2              2               2        2              2   \n",
       "528280             2              2               2        2              2   \n",
       "459706             2              2               2        2              2   \n",
       "101602             2              2               2        2              2   \n",
       "513996             2              2               2        2              2   \n",
       "556153             2              2               2        2              2   \n",
       "199723             2              2               2        2              2   \n",
       "301473             2              2               2        2              2   \n",
       "342201             2              2               2        2              2   \n",
       "306443             2              2               2        2              2   \n",
       "65876              1              2               2        2              2   \n",
       "42795              2              2               2        2              2   \n",
       "220567             2              2               2        2              2   \n",
       "250506             2              2               2        2              2   \n",
       "431542             2              2               2        2              2   \n",
       "\n",
       "        tobacco  contact_other_covid  covid_res  icu  \n",
       "168839        2                   99          1   97  \n",
       "39488         2                    1          1   97  \n",
       "244829        2                    2          2   97  \n",
       "454756        2                    2          2   97  \n",
       "483119        2                    1          2   97  \n",
       "352536        2                    1          2   97  \n",
       "528280        1                    1          3   97  \n",
       "459706        2                    1          2   97  \n",
       "101602        2                    1          1   97  \n",
       "513996        2                    1          3   97  \n",
       "556153        2                    2          3   97  \n",
       "199723        2                   99          1   97  \n",
       "301473        2                    2          2   97  \n",
       "342201        2                    2          2    2  \n",
       "306443        2                    2          2   97  \n",
       "65876         2                    2          1   97  \n",
       "42795         2                    2          1   97  \n",
       "220567        2                   99          1    2  \n",
       "250506        1                    1          2   97  \n",
       "431542        2                    2          2   97  \n",
       "\n",
       "[20 rows x 23 columns]"
      ]
     },
     "execution_count": 13,
     "metadata": {},
     "output_type": "execute_result"
    }
   ],
   "source": [
    "df.sample(20) # get a random sample from the data"
   ]
  },
  {
   "cell_type": "code",
   "execution_count": 14,
   "id": "f40b38c4",
   "metadata": {},
   "outputs": [
    {
     "name": "stdout",
     "output_type": "stream",
     "text": [
      "<class 'pandas.core.frame.DataFrame'>\n",
      "RangeIndex: 566602 entries, 0 to 566601\n",
      "Data columns (total 23 columns):\n",
      " #   Column               Non-Null Count   Dtype \n",
      "---  ------               --------------   ----- \n",
      " 0   id                   566602 non-null  object\n",
      " 1   sex                  566602 non-null  int64 \n",
      " 2   patient_type         566602 non-null  int64 \n",
      " 3   entry_date           566602 non-null  object\n",
      " 4   date_symptoms        566602 non-null  object\n",
      " 5   date_died            566602 non-null  object\n",
      " 6   intubed              566602 non-null  int64 \n",
      " 7   pneumonia            566602 non-null  int64 \n",
      " 8   age                  566602 non-null  int64 \n",
      " 9   pregnancy            566602 non-null  int64 \n",
      " 10  diabetes             566602 non-null  int64 \n",
      " 11  copd                 566602 non-null  int64 \n",
      " 12  asthma               566602 non-null  int64 \n",
      " 13  inmsupr              566602 non-null  int64 \n",
      " 14  hypertension         566602 non-null  int64 \n",
      " 15  other_disease        566602 non-null  int64 \n",
      " 16  cardiovascular       566602 non-null  int64 \n",
      " 17  obesity              566602 non-null  int64 \n",
      " 18  renal_chronic        566602 non-null  int64 \n",
      " 19  tobacco              566602 non-null  int64 \n",
      " 20  contact_other_covid  566602 non-null  int64 \n",
      " 21  covid_res            566602 non-null  int64 \n",
      " 22  icu                  566602 non-null  int64 \n",
      "dtypes: int64(19), object(4)\n",
      "memory usage: 99.4+ MB\n"
     ]
    }
   ],
   "source": [
    "df.info()"
   ]
  },
  {
   "cell_type": "code",
   "execution_count": 15,
   "id": "e57e5f38",
   "metadata": {},
   "outputs": [
    {
     "data": {
      "text/plain": [
       "Index(['id', 'sex', 'patient_type', 'entry_date', 'date_symptoms', 'date_died',\n",
       "       'intubed', 'pneumonia', 'age', 'pregnancy', 'diabetes', 'copd',\n",
       "       'asthma', 'inmsupr', 'hypertension', 'other_disease', 'cardiovascular',\n",
       "       'obesity', 'renal_chronic', 'tobacco', 'contact_other_covid',\n",
       "       'covid_res', 'icu'],\n",
       "      dtype='object')"
      ]
     },
     "execution_count": 15,
     "metadata": {},
     "output_type": "execute_result"
    }
   ],
   "source": [
    "df.columns"
   ]
  },
  {
   "cell_type": "code",
   "execution_count": 16,
   "id": "fd2cc1b8",
   "metadata": {},
   "outputs": [
    {
     "data": {
      "text/plain": [
       "id                     object\n",
       "sex                     int64\n",
       "patient_type            int64\n",
       "entry_date             object\n",
       "date_symptoms          object\n",
       "date_died              object\n",
       "intubed                 int64\n",
       "pneumonia               int64\n",
       "age                     int64\n",
       "pregnancy               int64\n",
       "diabetes                int64\n",
       "copd                    int64\n",
       "asthma                  int64\n",
       "inmsupr                 int64\n",
       "hypertension            int64\n",
       "other_disease           int64\n",
       "cardiovascular          int64\n",
       "obesity                 int64\n",
       "renal_chronic           int64\n",
       "tobacco                 int64\n",
       "contact_other_covid     int64\n",
       "covid_res               int64\n",
       "icu                     int64\n",
       "dtype: object"
      ]
     },
     "execution_count": 16,
     "metadata": {},
     "output_type": "execute_result"
    }
   ],
   "source": [
    "df.dtypes"
   ]
  },
  {
   "cell_type": "code",
   "execution_count": 17,
   "id": "ea9c2311",
   "metadata": {},
   "outputs": [
    {
     "data": {
      "text/html": [
       "<div>\n",
       "<style scoped>\n",
       "    .dataframe tbody tr th:only-of-type {\n",
       "        vertical-align: middle;\n",
       "    }\n",
       "\n",
       "    .dataframe tbody tr th {\n",
       "        vertical-align: top;\n",
       "    }\n",
       "\n",
       "    .dataframe thead th {\n",
       "        text-align: right;\n",
       "    }\n",
       "</style>\n",
       "<table border=\"1\" class=\"dataframe\">\n",
       "  <thead>\n",
       "    <tr style=\"text-align: right;\">\n",
       "      <th></th>\n",
       "      <th>Data Dictionary:</th>\n",
       "    </tr>\n",
       "  </thead>\n",
       "  <tbody>\n",
       "    <tr>\n",
       "      <th>0</th>\n",
       "      <td>1. id: The identification number of the patient</td>\n",
       "    </tr>\n",
       "    <tr>\n",
       "      <th>1</th>\n",
       "      <td>.</td>\n",
       "    </tr>\n",
       "    <tr>\n",
       "      <th>2</th>\n",
       "      <td>2. sex: Identify gender of the patient, 1 as f...</td>\n",
       "    </tr>\n",
       "    <tr>\n",
       "      <th>3</th>\n",
       "      <td>3. patient_type: Type of patient, 1 for not ho...</td>\n",
       "    </tr>\n",
       "    <tr>\n",
       "      <th>4</th>\n",
       "      <td>4. entry_date: The date that the patient went ...</td>\n",
       "    </tr>\n",
       "    <tr>\n",
       "      <th>5</th>\n",
       "      <td>5. date_symptoms: The date that the patient st...</td>\n",
       "    </tr>\n",
       "    <tr>\n",
       "      <th>6</th>\n",
       "      <td>6. date_died: The date that the patient died, ...</td>\n",
       "    </tr>\n",
       "    <tr>\n",
       "      <th>7</th>\n",
       "      <td>7. intubed: Intubation is a procedure that’s u...</td>\n",
       "    </tr>\n",
       "    <tr>\n",
       "      <th>8</th>\n",
       "      <td>8. pneumonia: Indicates whether the patient al...</td>\n",
       "    </tr>\n",
       "    <tr>\n",
       "      <th>9</th>\n",
       "      <td>9. age: Specifies the age of the patient.</td>\n",
       "    </tr>\n",
       "    <tr>\n",
       "      <th>10</th>\n",
       "      <td>10. pregnancy: Indicates whether the patient i...</td>\n",
       "    </tr>\n",
       "    <tr>\n",
       "      <th>11</th>\n",
       "      <td>11. diabetes: Indicates whether the patient ha...</td>\n",
       "    </tr>\n",
       "    <tr>\n",
       "      <th>12</th>\n",
       "      <td>12. copd: Indicates whether the patient has Ch...</td>\n",
       "    </tr>\n",
       "    <tr>\n",
       "      <th>13</th>\n",
       "      <td>13. asthma: Indiactes whether the patient has ...</td>\n",
       "    </tr>\n",
       "    <tr>\n",
       "      <th>14</th>\n",
       "      <td>14. inmsupr: Indicates whether the patient is ...</td>\n",
       "    </tr>\n",
       "    <tr>\n",
       "      <th>15</th>\n",
       "      <td>15. hypertension: Indicates whether the patien...</td>\n",
       "    </tr>\n",
       "    <tr>\n",
       "      <th>16</th>\n",
       "      <td>16. other_disease: Indicates whether the patie...</td>\n",
       "    </tr>\n",
       "    <tr>\n",
       "      <th>17</th>\n",
       "      <td>17. cardiovascular: Indicates whether if the p...</td>\n",
       "    </tr>\n",
       "    <tr>\n",
       "      <th>18</th>\n",
       "      <td>18. obesity: Indicates whether the patient is ...</td>\n",
       "    </tr>\n",
       "    <tr>\n",
       "      <th>19</th>\n",
       "      <td>19. renal_chronic: Indicates whether the patie...</td>\n",
       "    </tr>\n",
       "    <tr>\n",
       "      <th>20</th>\n",
       "      <td>20. tobacco: Indicates whether if the patient ...</td>\n",
       "    </tr>\n",
       "    <tr>\n",
       "      <th>21</th>\n",
       "      <td>21. contact_other_covid: Indicates whether if ...</td>\n",
       "    </tr>\n",
       "    <tr>\n",
       "      <th>22</th>\n",
       "      <td>22. icu: Indicates whether the if the patient ...</td>\n",
       "    </tr>\n",
       "    <tr>\n",
       "      <th>23</th>\n",
       "      <td>23. covid_res: 1 indicates person is covid +ve...</td>\n",
       "    </tr>\n",
       "  </tbody>\n",
       "</table>\n",
       "</div>"
      ],
      "text/plain": [
       "                                     Data Dictionary:\n",
       "0     1. id: The identification number of the patient\n",
       "1                                                   .\n",
       "2   2. sex: Identify gender of the patient, 1 as f...\n",
       "3   3. patient_type: Type of patient, 1 for not ho...\n",
       "4   4. entry_date: The date that the patient went ...\n",
       "5   5. date_symptoms: The date that the patient st...\n",
       "6   6. date_died: The date that the patient died, ...\n",
       "7   7. intubed: Intubation is a procedure that’s u...\n",
       "8   8. pneumonia: Indicates whether the patient al...\n",
       "9           9. age: Specifies the age of the patient.\n",
       "10  10. pregnancy: Indicates whether the patient i...\n",
       "11  11. diabetes: Indicates whether the patient ha...\n",
       "12  12. copd: Indicates whether the patient has Ch...\n",
       "13  13. asthma: Indiactes whether the patient has ...\n",
       "14  14. inmsupr: Indicates whether the patient is ...\n",
       "15  15. hypertension: Indicates whether the patien...\n",
       "16  16. other_disease: Indicates whether the patie...\n",
       "17  17. cardiovascular: Indicates whether if the p...\n",
       "18  18. obesity: Indicates whether the patient is ...\n",
       "19  19. renal_chronic: Indicates whether the patie...\n",
       "20  20. tobacco: Indicates whether if the patient ...\n",
       "21  21. contact_other_covid: Indicates whether if ...\n",
       "22  22. icu: Indicates whether the if the patient ...\n",
       "23  23. covid_res: 1 indicates person is covid +ve..."
      ]
     },
     "execution_count": 17,
     "metadata": {},
     "output_type": "execute_result"
    }
   ],
   "source": [
    "# identify the target variable\n",
    "\n",
    "df2 = xls['Sheet1']\n",
    "df2"
   ]
  },
  {
   "cell_type": "code",
   "execution_count": 18,
   "id": "a5317580",
   "metadata": {},
   "outputs": [
    {
     "data": {
      "text/plain": [
       "97    444689\n",
       "2     111676\n",
       "1      10112\n",
       "99       125\n",
       "Name: icu, dtype: int64"
      ]
     },
     "execution_count": 18,
     "metadata": {},
     "output_type": "execute_result"
    }
   ],
   "source": [
    "# treat feature ICU as target variable\n",
    "\n",
    "# frequency distribution of the outcome varible labels\n",
    "\n",
    "df.icu.value_counts() # labels 97 & 99 are not specified as such we can't build a model with them"
   ]
  },
  {
   "cell_type": "code",
   "execution_count": 6,
   "id": "c51e12bb",
   "metadata": {},
   "outputs": [],
   "source": [
    "# Extract the samples from the data that have proper icu values\n",
    "rec = [1,2]\n",
    "icuDF = df[df['icu'].isin(rec)]"
   ]
  },
  {
   "cell_type": "code",
   "execution_count": 7,
   "id": "d448dc4d",
   "metadata": {},
   "outputs": [
    {
     "data": {
      "text/plain": [
       "2    111676\n",
       "1     10112\n",
       "Name: icu, dtype: int64"
      ]
     },
     "execution_count": 7,
     "metadata": {},
     "output_type": "execute_result"
    }
   ],
   "source": [
    "icuDF.icu.value_counts()"
   ]
  },
  {
   "cell_type": "code",
   "execution_count": 21,
   "id": "abca0908",
   "metadata": {},
   "outputs": [
    {
     "data": {
      "text/html": [
       "<div>\n",
       "<style scoped>\n",
       "    .dataframe tbody tr th:only-of-type {\n",
       "        vertical-align: middle;\n",
       "    }\n",
       "\n",
       "    .dataframe tbody tr th {\n",
       "        vertical-align: top;\n",
       "    }\n",
       "\n",
       "    .dataframe thead th {\n",
       "        text-align: right;\n",
       "    }\n",
       "</style>\n",
       "<table border=\"1\" class=\"dataframe\">\n",
       "  <thead>\n",
       "    <tr style=\"text-align: right;\">\n",
       "      <th></th>\n",
       "      <th>id</th>\n",
       "      <th>sex</th>\n",
       "      <th>patient_type</th>\n",
       "      <th>entry_date</th>\n",
       "      <th>date_symptoms</th>\n",
       "      <th>date_died</th>\n",
       "      <th>intubed</th>\n",
       "      <th>pneumonia</th>\n",
       "      <th>age</th>\n",
       "      <th>pregnancy</th>\n",
       "      <th>...</th>\n",
       "      <th>inmsupr</th>\n",
       "      <th>hypertension</th>\n",
       "      <th>other_disease</th>\n",
       "      <th>cardiovascular</th>\n",
       "      <th>obesity</th>\n",
       "      <th>renal_chronic</th>\n",
       "      <th>tobacco</th>\n",
       "      <th>contact_other_covid</th>\n",
       "      <th>covid_res</th>\n",
       "      <th>icu</th>\n",
       "    </tr>\n",
       "  </thead>\n",
       "  <tbody>\n",
       "    <tr>\n",
       "      <th>2</th>\n",
       "      <td>167386</td>\n",
       "      <td>1</td>\n",
       "      <td>2</td>\n",
       "      <td>2020-06-04 00:00:00</td>\n",
       "      <td>2020-01-04 00:00:00</td>\n",
       "      <td>9999-99-99</td>\n",
       "      <td>2</td>\n",
       "      <td>2</td>\n",
       "      <td>54</td>\n",
       "      <td>2</td>\n",
       "      <td>...</td>\n",
       "      <td>2</td>\n",
       "      <td>2</td>\n",
       "      <td>2</td>\n",
       "      <td>2</td>\n",
       "      <td>1</td>\n",
       "      <td>2</td>\n",
       "      <td>2</td>\n",
       "      <td>99</td>\n",
       "      <td>1</td>\n",
       "      <td>2</td>\n",
       "    </tr>\n",
       "    <tr>\n",
       "      <th>3</th>\n",
       "      <td>0b5948</td>\n",
       "      <td>2</td>\n",
       "      <td>2</td>\n",
       "      <td>17-04-2020</td>\n",
       "      <td>2020-10-04 00:00:00</td>\n",
       "      <td>9999-99-99</td>\n",
       "      <td>2</td>\n",
       "      <td>1</td>\n",
       "      <td>30</td>\n",
       "      <td>97</td>\n",
       "      <td>...</td>\n",
       "      <td>2</td>\n",
       "      <td>2</td>\n",
       "      <td>2</td>\n",
       "      <td>2</td>\n",
       "      <td>2</td>\n",
       "      <td>2</td>\n",
       "      <td>2</td>\n",
       "      <td>99</td>\n",
       "      <td>1</td>\n",
       "      <td>2</td>\n",
       "    </tr>\n",
       "    <tr>\n",
       "      <th>4</th>\n",
       "      <td>0d01b5</td>\n",
       "      <td>1</td>\n",
       "      <td>2</td>\n",
       "      <td>13-04-2020</td>\n",
       "      <td>13-04-2020</td>\n",
       "      <td>22-04-2020</td>\n",
       "      <td>2</td>\n",
       "      <td>2</td>\n",
       "      <td>60</td>\n",
       "      <td>2</td>\n",
       "      <td>...</td>\n",
       "      <td>2</td>\n",
       "      <td>1</td>\n",
       "      <td>2</td>\n",
       "      <td>1</td>\n",
       "      <td>2</td>\n",
       "      <td>2</td>\n",
       "      <td>2</td>\n",
       "      <td>99</td>\n",
       "      <td>1</td>\n",
       "      <td>2</td>\n",
       "    </tr>\n",
       "    <tr>\n",
       "      <th>5</th>\n",
       "      <td>1beec8</td>\n",
       "      <td>2</td>\n",
       "      <td>2</td>\n",
       "      <td>16-04-2020</td>\n",
       "      <td>16-04-2020</td>\n",
       "      <td>29-04-2020</td>\n",
       "      <td>2</td>\n",
       "      <td>1</td>\n",
       "      <td>47</td>\n",
       "      <td>97</td>\n",
       "      <td>...</td>\n",
       "      <td>2</td>\n",
       "      <td>2</td>\n",
       "      <td>2</td>\n",
       "      <td>2</td>\n",
       "      <td>2</td>\n",
       "      <td>2</td>\n",
       "      <td>2</td>\n",
       "      <td>99</td>\n",
       "      <td>1</td>\n",
       "      <td>1</td>\n",
       "    </tr>\n",
       "    <tr>\n",
       "      <th>6</th>\n",
       "      <td>1.75E+56</td>\n",
       "      <td>2</td>\n",
       "      <td>2</td>\n",
       "      <td>22-04-2020</td>\n",
       "      <td>13-04-2020</td>\n",
       "      <td>9999-99-99</td>\n",
       "      <td>2</td>\n",
       "      <td>2</td>\n",
       "      <td>63</td>\n",
       "      <td>97</td>\n",
       "      <td>...</td>\n",
       "      <td>2</td>\n",
       "      <td>1</td>\n",
       "      <td>2</td>\n",
       "      <td>2</td>\n",
       "      <td>2</td>\n",
       "      <td>2</td>\n",
       "      <td>2</td>\n",
       "      <td>99</td>\n",
       "      <td>1</td>\n",
       "      <td>2</td>\n",
       "    </tr>\n",
       "    <tr>\n",
       "      <th>...</th>\n",
       "      <td>...</td>\n",
       "      <td>...</td>\n",
       "      <td>...</td>\n",
       "      <td>...</td>\n",
       "      <td>...</td>\n",
       "      <td>...</td>\n",
       "      <td>...</td>\n",
       "      <td>...</td>\n",
       "      <td>...</td>\n",
       "      <td>...</td>\n",
       "      <td>...</td>\n",
       "      <td>...</td>\n",
       "      <td>...</td>\n",
       "      <td>...</td>\n",
       "      <td>...</td>\n",
       "      <td>...</td>\n",
       "      <td>...</td>\n",
       "      <td>...</td>\n",
       "      <td>...</td>\n",
       "      <td>...</td>\n",
       "      <td>...</td>\n",
       "    </tr>\n",
       "    <tr>\n",
       "      <th>566584</th>\n",
       "      <td>093a47</td>\n",
       "      <td>2</td>\n",
       "      <td>2</td>\n",
       "      <td>2020-02-05 00:00:00</td>\n",
       "      <td>2020-02-05 00:00:00</td>\n",
       "      <td>9999-99-99</td>\n",
       "      <td>2</td>\n",
       "      <td>1</td>\n",
       "      <td>45</td>\n",
       "      <td>97</td>\n",
       "      <td>...</td>\n",
       "      <td>2</td>\n",
       "      <td>2</td>\n",
       "      <td>2</td>\n",
       "      <td>2</td>\n",
       "      <td>2</td>\n",
       "      <td>2</td>\n",
       "      <td>2</td>\n",
       "      <td>99</td>\n",
       "      <td>3</td>\n",
       "      <td>2</td>\n",
       "    </tr>\n",
       "    <tr>\n",
       "      <th>566590</th>\n",
       "      <td>067bbd</td>\n",
       "      <td>2</td>\n",
       "      <td>2</td>\n",
       "      <td>2020-07-06 00:00:00</td>\n",
       "      <td>24-05-2020</td>\n",
       "      <td>9999-99-99</td>\n",
       "      <td>1</td>\n",
       "      <td>1</td>\n",
       "      <td>68</td>\n",
       "      <td>97</td>\n",
       "      <td>...</td>\n",
       "      <td>2</td>\n",
       "      <td>1</td>\n",
       "      <td>2</td>\n",
       "      <td>2</td>\n",
       "      <td>1</td>\n",
       "      <td>2</td>\n",
       "      <td>2</td>\n",
       "      <td>2</td>\n",
       "      <td>3</td>\n",
       "      <td>1</td>\n",
       "    </tr>\n",
       "    <tr>\n",
       "      <th>566591</th>\n",
       "      <td>5.60E+40</td>\n",
       "      <td>2</td>\n",
       "      <td>2</td>\n",
       "      <td>2020-08-05 00:00:00</td>\n",
       "      <td>2020-08-05 00:00:00</td>\n",
       "      <td>13-05-2020</td>\n",
       "      <td>1</td>\n",
       "      <td>1</td>\n",
       "      <td>48</td>\n",
       "      <td>97</td>\n",
       "      <td>...</td>\n",
       "      <td>2</td>\n",
       "      <td>1</td>\n",
       "      <td>2</td>\n",
       "      <td>2</td>\n",
       "      <td>2</td>\n",
       "      <td>2</td>\n",
       "      <td>2</td>\n",
       "      <td>2</td>\n",
       "      <td>3</td>\n",
       "      <td>1</td>\n",
       "    </tr>\n",
       "    <tr>\n",
       "      <th>566593</th>\n",
       "      <td>150615</td>\n",
       "      <td>1</td>\n",
       "      <td>2</td>\n",
       "      <td>2020-12-05 00:00:00</td>\n",
       "      <td>2020-09-05 00:00:00</td>\n",
       "      <td>9999-99-99</td>\n",
       "      <td>2</td>\n",
       "      <td>1</td>\n",
       "      <td>31</td>\n",
       "      <td>98</td>\n",
       "      <td>...</td>\n",
       "      <td>2</td>\n",
       "      <td>2</td>\n",
       "      <td>2</td>\n",
       "      <td>2</td>\n",
       "      <td>2</td>\n",
       "      <td>2</td>\n",
       "      <td>2</td>\n",
       "      <td>99</td>\n",
       "      <td>3</td>\n",
       "      <td>2</td>\n",
       "    </tr>\n",
       "    <tr>\n",
       "      <th>566599</th>\n",
       "      <td>1beb81</td>\n",
       "      <td>1</td>\n",
       "      <td>2</td>\n",
       "      <td>14-05-2020</td>\n",
       "      <td>2020-01-05 00:00:00</td>\n",
       "      <td>9999-99-99</td>\n",
       "      <td>2</td>\n",
       "      <td>1</td>\n",
       "      <td>49</td>\n",
       "      <td>2</td>\n",
       "      <td>...</td>\n",
       "      <td>2</td>\n",
       "      <td>2</td>\n",
       "      <td>2</td>\n",
       "      <td>2</td>\n",
       "      <td>1</td>\n",
       "      <td>2</td>\n",
       "      <td>2</td>\n",
       "      <td>99</td>\n",
       "      <td>3</td>\n",
       "      <td>2</td>\n",
       "    </tr>\n",
       "  </tbody>\n",
       "</table>\n",
       "<p>121788 rows × 23 columns</p>\n",
       "</div>"
      ],
      "text/plain": [
       "              id  sex  patient_type           entry_date        date_symptoms  \\\n",
       "2         167386    1             2  2020-06-04 00:00:00  2020-01-04 00:00:00   \n",
       "3         0b5948    2             2           17-04-2020  2020-10-04 00:00:00   \n",
       "4         0d01b5    1             2           13-04-2020           13-04-2020   \n",
       "5         1beec8    2             2           16-04-2020           16-04-2020   \n",
       "6       1.75E+56    2             2           22-04-2020           13-04-2020   \n",
       "...          ...  ...           ...                  ...                  ...   \n",
       "566584    093a47    2             2  2020-02-05 00:00:00  2020-02-05 00:00:00   \n",
       "566590    067bbd    2             2  2020-07-06 00:00:00           24-05-2020   \n",
       "566591  5.60E+40    2             2  2020-08-05 00:00:00  2020-08-05 00:00:00   \n",
       "566593    150615    1             2  2020-12-05 00:00:00  2020-09-05 00:00:00   \n",
       "566599    1beb81    1             2           14-05-2020  2020-01-05 00:00:00   \n",
       "\n",
       "         date_died  intubed  pneumonia  age  pregnancy  ...  inmsupr  \\\n",
       "2       9999-99-99        2          2   54          2  ...        2   \n",
       "3       9999-99-99        2          1   30         97  ...        2   \n",
       "4       22-04-2020        2          2   60          2  ...        2   \n",
       "5       29-04-2020        2          1   47         97  ...        2   \n",
       "6       9999-99-99        2          2   63         97  ...        2   \n",
       "...            ...      ...        ...  ...        ...  ...      ...   \n",
       "566584  9999-99-99        2          1   45         97  ...        2   \n",
       "566590  9999-99-99        1          1   68         97  ...        2   \n",
       "566591  13-05-2020        1          1   48         97  ...        2   \n",
       "566593  9999-99-99        2          1   31         98  ...        2   \n",
       "566599  9999-99-99        2          1   49          2  ...        2   \n",
       "\n",
       "        hypertension  other_disease  cardiovascular  obesity  renal_chronic  \\\n",
       "2                  2              2               2        1              2   \n",
       "3                  2              2               2        2              2   \n",
       "4                  1              2               1        2              2   \n",
       "5                  2              2               2        2              2   \n",
       "6                  1              2               2        2              2   \n",
       "...              ...            ...             ...      ...            ...   \n",
       "566584             2              2               2        2              2   \n",
       "566590             1              2               2        1              2   \n",
       "566591             1              2               2        2              2   \n",
       "566593             2              2               2        2              2   \n",
       "566599             2              2               2        1              2   \n",
       "\n",
       "        tobacco  contact_other_covid  covid_res  icu  \n",
       "2             2                   99          1    2  \n",
       "3             2                   99          1    2  \n",
       "4             2                   99          1    2  \n",
       "5             2                   99          1    1  \n",
       "6             2                   99          1    2  \n",
       "...         ...                  ...        ...  ...  \n",
       "566584        2                   99          3    2  \n",
       "566590        2                    2          3    1  \n",
       "566591        2                    2          3    1  \n",
       "566593        2                   99          3    2  \n",
       "566599        2                   99          3    2  \n",
       "\n",
       "[121788 rows x 23 columns]"
      ]
     },
     "execution_count": 21,
     "metadata": {},
     "output_type": "execute_result"
    }
   ],
   "source": [
    "icuDF"
   ]
  },
  {
   "cell_type": "markdown",
   "id": "1b85a6b8",
   "metadata": {},
   "source": [
    "#### Univariate analysis"
   ]
  },
  {
   "cell_type": "markdown",
   "id": "d201d5de",
   "metadata": {},
   "source": [
    "#### Insights to icu"
   ]
  },
  {
   "cell_type": "code",
   "execution_count": 27,
   "id": "19194170",
   "metadata": {},
   "outputs": [
    {
     "data": {
      "text/plain": [
       "<AxesSubplot:xlabel='icu', ylabel='count'>"
      ]
     },
     "execution_count": 27,
     "metadata": {},
     "output_type": "execute_result"
    },
    {
     "data": {
      "image/png": "[encoded data removed]",
      "text/plain": [
       "<Figure size 432x288 with 1 Axes>"
      ]
     },
     "metadata": {},
     "output_type": "display_data"
    }
   ],
   "source": [
    "sns.set_theme(style='darkgrid')\n",
    "sns.countplot(x='icu', data = icuDF)"
   ]
  },
  {
   "cell_type": "code",
   "execution_count": null,
   "id": "f847d9f6",
   "metadata": {},
   "outputs": [],
   "source": [
    "We can see that there is imbalance on the target variable. Insights show that much of the patients are not admitted at \n",
    "Intensive care unit."
   ]
  },
  {
   "cell_type": "markdown",
   "id": "0e989b1f",
   "metadata": {},
   "source": [
    "#### Insights on Gender (sex)"
   ]
  },
  {
   "cell_type": "code",
   "execution_count": 28,
   "id": "fb3a9fdc",
   "metadata": {},
   "outputs": [
    {
     "data": {
      "text/plain": [
       "<AxesSubplot:xlabel='sex', ylabel='count'>"
      ]
     },
     "execution_count": 28,
     "metadata": {},
     "output_type": "execute_result"
    },
    {
     "data": {
      "image/png": "[encoded data removed]",
      "text/plain": [
       "<Figure size 432x288 with 1 Axes>"
      ]
     },
     "metadata": {},
     "output_type": "display_data"
    }
   ],
   "source": [
    "sns.set_theme(style='darkgrid')\n",
    "sns.countplot(x='sex', data = icuDF)"
   ]
  },
  {
   "cell_type": "code",
   "execution_count": null,
   "id": "be4b4d4d",
   "metadata": {},
   "outputs": [],
   "source": [
    "Insights to gender, we have more male patients than female"
   ]
  },
  {
   "cell_type": "markdown",
   "id": "d4f5e32b",
   "metadata": {},
   "source": [
    "#### Insights to patient_type"
   ]
  },
  {
   "cell_type": "code",
   "execution_count": 29,
   "id": "091967ab",
   "metadata": {},
   "outputs": [
    {
     "data": {
      "text/plain": [
       "<AxesSubplot:xlabel='patient_type', ylabel='count'>"
      ]
     },
     "execution_count": 29,
     "metadata": {},
     "output_type": "execute_result"
    },
    {
     "data": {
      "image/png": "[encoded data removed]",
      "text/plain": [
       "<Figure size 432x288 with 1 Axes>"
      ]
     },
     "metadata": {},
     "output_type": "display_data"
    }
   ],
   "source": [
    "sns.set_theme(style='darkgrid')\n",
    "sns.countplot(x='patient_type', data = icuDF)"
   ]
  },
  {
   "cell_type": "code",
   "execution_count": null,
   "id": "32397f95",
   "metadata": {},
   "outputs": [],
   "source": [
    "We can infer with the given data, that all of the patients are hospitalized."
   ]
  },
  {
   "cell_type": "markdown",
   "id": "2ea28ad4",
   "metadata": {},
   "source": [
    "#### Insights on intubed"
   ]
  },
  {
   "cell_type": "code",
   "execution_count": 30,
   "id": "c2ce1552",
   "metadata": {},
   "outputs": [
    {
     "data": {
      "text/plain": [
       "<AxesSubplot:xlabel='intubed', ylabel='count'>"
      ]
     },
     "execution_count": 30,
     "metadata": {},
     "output_type": "execute_result"
    },
    {
     "data": {
      "image/png": "[encoded data removed]",
      "text/plain": [
       "<Figure size 432x288 with 1 Axes>"
      ]
     },
     "metadata": {},
     "output_type": "display_data"
    }
   ],
   "source": [
    "sns.set_theme(style='darkgrid')\n",
    "sns.countplot(x='intubed', data = icuDF)"
   ]
  },
  {
   "cell_type": "code",
   "execution_count": null,
   "id": "556b9686",
   "metadata": {},
   "outputs": [],
   "source": [
    "We can infer that much of the patients did not use ventilator"
   ]
  },
  {
   "cell_type": "markdown",
   "id": "9a2f487b",
   "metadata": {},
   "source": [
    "#### Insight on pneumonia"
   ]
  },
  {
   "cell_type": "code",
   "execution_count": 31,
   "id": "51f1e347",
   "metadata": {},
   "outputs": [
    {
     "data": {
      "text/plain": [
       "<AxesSubplot:xlabel='pneumonia', ylabel='count'>"
      ]
     },
     "execution_count": 31,
     "metadata": {},
     "output_type": "execute_result"
    },
    {
     "data": {
      "image/png": "[encoded data removed]",
      "text/plain": [
       "<Figure size 432x288 with 1 Axes>"
      ]
     },
     "metadata": {},
     "output_type": "display_data"
    }
   ],
   "source": [
    "sns.set_theme(style='darkgrid')\n",
    "sns.countplot(x='pneumonia', data = icuDF)"
   ]
  },
  {
   "cell_type": "code",
   "execution_count": null,
   "id": "4a907a61",
   "metadata": {},
   "outputs": [],
   "source": [
    "Insight on data shows that the patients with pneumonia is more than those without."
   ]
  },
  {
   "cell_type": "markdown",
   "id": "fff1b085",
   "metadata": {},
   "source": [
    "#### Insight on pregnancy"
   ]
  },
  {
   "cell_type": "code",
   "execution_count": 36,
   "id": "e1d935e3",
   "metadata": {},
   "outputs": [
    {
     "data": {
      "text/plain": [
       "<AxesSubplot:xlabel='pregnancy', ylabel='count'>"
      ]
     },
     "execution_count": 36,
     "metadata": {},
     "output_type": "execute_result"
    },
    {
     "data": {
      "image/png": "[encoded data removed]",
      "text/plain": [
       "<Figure size 432x288 with 1 Axes>"
      ]
     },
     "metadata": {},
     "output_type": "display_data"
    }
   ],
   "source": [
    "sns.countplot(x='pregnancy', data = icuDF)"
   ]
  },
  {
   "cell_type": "code",
   "execution_count": null,
   "id": "795d843d",
   "metadata": {},
   "outputs": [],
   "source": [
    "We can infer that there are more patients with an unspecified pregnancy status"
   ]
  },
  {
   "cell_type": "markdown",
   "id": "fb4ca04f",
   "metadata": {},
   "source": [
    "#### Insight on diabetes"
   ]
  },
  {
   "cell_type": "code",
   "execution_count": 37,
   "id": "aa9963a4",
   "metadata": {},
   "outputs": [
    {
     "data": {
      "text/plain": [
       "<AxesSubplot:xlabel='diabetes', ylabel='count'>"
      ]
     },
     "execution_count": 37,
     "metadata": {},
     "output_type": "execute_result"
    },
    {
     "data": {
      "image/png": "[encoded data removed]",
      "text/plain": [
       "<Figure size 432x288 with 1 Axes>"
      ]
     },
     "metadata": {},
     "output_type": "display_data"
    }
   ],
   "source": [
    "sns.countplot(x='diabetes', data = icuDF)"
   ]
  },
  {
   "cell_type": "code",
   "execution_count": null,
   "id": "90c11cb6",
   "metadata": {},
   "outputs": [],
   "source": [
    "Inference shows that most of the patients does not have diabetes or the number of patients without diabetes are much more"
   ]
  },
  {
   "cell_type": "markdown",
   "id": "6b65d9d3",
   "metadata": {},
   "source": [
    "#### Insight on copd"
   ]
  },
  {
   "cell_type": "code",
   "execution_count": 38,
   "id": "848d95b4",
   "metadata": {},
   "outputs": [
    {
     "data": {
      "text/plain": [
       "<AxesSubplot:xlabel='copd', ylabel='count'>"
      ]
     },
     "execution_count": 38,
     "metadata": {},
     "output_type": "execute_result"
    },
    {
     "data": {
      "image/png": "[encoded data removed]",
      "text/plain": [
       "<Figure size 432x288 with 1 Axes>"
      ]
     },
     "metadata": {},
     "output_type": "display_data"
    }
   ],
   "source": [
    "sns.countplot(x='copd', data = icuDF)"
   ]
  },
  {
   "cell_type": "code",
   "execution_count": null,
   "id": "2a26176d",
   "metadata": {},
   "outputs": [],
   "source": [
    "Insight shows that there are more patients without chronic obstructive plumonary disease"
   ]
  },
  {
   "cell_type": "markdown",
   "id": "53e80e3e",
   "metadata": {},
   "source": [
    "#### Insight on asthma"
   ]
  },
  {
   "cell_type": "code",
   "execution_count": 39,
   "id": "9aca3640",
   "metadata": {},
   "outputs": [
    {
     "data": {
      "text/plain": [
       "<AxesSubplot:xlabel='asthma', ylabel='count'>"
      ]
     },
     "execution_count": 39,
     "metadata": {},
     "output_type": "execute_result"
    },
    {
     "data": {
      "image/png": "[encoded data removed]",
      "text/plain": [
       "<Figure size 432x288 with 1 Axes>"
      ]
     },
     "metadata": {},
     "output_type": "display_data"
    }
   ],
   "source": [
    "sns.countplot(x='asthma', data = icuDF)"
   ]
  },
  {
   "cell_type": "code",
   "execution_count": null,
   "id": "8d41f8cb",
   "metadata": {},
   "outputs": [],
   "source": [
    "We can see that there are more patients without asthma"
   ]
  },
  {
   "cell_type": "markdown",
   "id": "9f572319",
   "metadata": {},
   "source": [
    "#### Insight on inmsupr"
   ]
  },
  {
   "cell_type": "code",
   "execution_count": 40,
   "id": "65d680cf",
   "metadata": {},
   "outputs": [
    {
     "data": {
      "text/plain": [
       "<AxesSubplot:xlabel='inmsupr', ylabel='count'>"
      ]
     },
     "execution_count": 40,
     "metadata": {},
     "output_type": "execute_result"
    },
    {
     "data": {
      "image/png": "[encoded data removed]",
      "text/plain": [
       "<Figure size 432x288 with 1 Axes>"
      ]
     },
     "metadata": {},
     "output_type": "display_data"
    }
   ],
   "source": [
    "sns.countplot(x='inmsupr', data = icuDF)"
   ]
  },
  {
   "cell_type": "code",
   "execution_count": null,
   "id": "84a22014",
   "metadata": {},
   "outputs": [],
   "source": [
    "We can see that there are more patients without immunosuppressed"
   ]
  },
  {
   "cell_type": "markdown",
   "id": "9303a1d8",
   "metadata": {},
   "source": [
    "#### Insight on hypertension"
   ]
  },
  {
   "cell_type": "code",
   "execution_count": 41,
   "id": "fb1a8faf",
   "metadata": {},
   "outputs": [
    {
     "data": {
      "text/plain": [
       "<AxesSubplot:xlabel='hypertension', ylabel='count'>"
      ]
     },
     "execution_count": 41,
     "metadata": {},
     "output_type": "execute_result"
    },
    {
     "data": {
      "image/png": "[encoded data removed]",
      "text/plain": [
       "<Figure size 432x288 with 1 Axes>"
      ]
     },
     "metadata": {},
     "output_type": "display_data"
    }
   ],
   "source": [
    "sns.countplot(x='hypertension', data = icuDF)"
   ]
  },
  {
   "cell_type": "code",
   "execution_count": null,
   "id": "89e21475",
   "metadata": {},
   "outputs": [],
   "source": [
    "We can infer that there are more patients that does not have hypertension"
   ]
  },
  {
   "cell_type": "markdown",
   "id": "daad1efe",
   "metadata": {},
   "source": [
    "#### Insight on other_disease"
   ]
  },
  {
   "cell_type": "code",
   "execution_count": 42,
   "id": "b40ea73e",
   "metadata": {},
   "outputs": [
    {
     "data": {
      "text/plain": [
       "<AxesSubplot:xlabel='other_disease', ylabel='count'>"
      ]
     },
     "execution_count": 42,
     "metadata": {},
     "output_type": "execute_result"
    },
    {
     "data": {
      "image/png": "[encoded data removed]",
      "text/plain": [
       "<Figure size 432x288 with 1 Axes>"
      ]
     },
     "metadata": {},
     "output_type": "display_data"
    }
   ],
   "source": [
    "sns.countplot(x='other_disease', data = icuDF)"
   ]
  },
  {
   "cell_type": "code",
   "execution_count": null,
   "id": "ddf7ec13",
   "metadata": {},
   "outputs": [],
   "source": [
    "We can infer that, a good number of the patients has no other_disease"
   ]
  },
  {
   "cell_type": "markdown",
   "id": "0c08803e",
   "metadata": {},
   "source": [
    "#### Insight on Cardivascular"
   ]
  },
  {
   "cell_type": "code",
   "execution_count": 43,
   "id": "c0cd92e5",
   "metadata": {},
   "outputs": [
    {
     "data": {
      "text/plain": [
       "<AxesSubplot:xlabel='cardiovascular', ylabel='count'>"
      ]
     },
     "execution_count": 43,
     "metadata": {},
     "output_type": "execute_result"
    },
    {
     "data": {
      "image/png": "[encoded data removed]",
      "text/plain": [
       "<Figure size 432x288 with 1 Axes>"
      ]
     },
     "metadata": {},
     "output_type": "display_data"
    }
   ],
   "source": [
    "sns.countplot(x='cardiovascular', data = icuDF)"
   ]
  },
  {
   "cell_type": "code",
   "execution_count": null,
   "id": "baf9dba9",
   "metadata": {},
   "outputs": [],
   "source": [
    "We can infer that, the patients has no cardiovascular disease are more"
   ]
  },
  {
   "cell_type": "markdown",
   "id": "1a2023e2",
   "metadata": {},
   "source": [
    "#### Insight on obesity"
   ]
  },
  {
   "cell_type": "code",
   "execution_count": 44,
   "id": "8e9fce42",
   "metadata": {},
   "outputs": [
    {
     "data": {
      "text/plain": [
       "<AxesSubplot:xlabel='obesity', ylabel='count'>"
      ]
     },
     "execution_count": 44,
     "metadata": {},
     "output_type": "execute_result"
    },
    {
     "data": {
      "image/png": "[encoded data removed]",
      "text/plain": [
       "<Figure size 432x288 with 1 Axes>"
      ]
     },
     "metadata": {},
     "output_type": "display_data"
    }
   ],
   "source": [
    "sns.countplot(x='obesity', data = icuDF)"
   ]
  },
  {
   "cell_type": "code",
   "execution_count": null,
   "id": "23f588d8",
   "metadata": {},
   "outputs": [],
   "source": [
    "We can infer that, there are more patients that are not obese"
   ]
  },
  {
   "cell_type": "markdown",
   "id": "262fe579",
   "metadata": {},
   "source": [
    "#### Insight on renal_chronic"
   ]
  },
  {
   "cell_type": "code",
   "execution_count": 45,
   "id": "672f25de",
   "metadata": {},
   "outputs": [
    {
     "data": {
      "text/plain": [
       "<AxesSubplot:xlabel='renal_chronic', ylabel='count'>"
      ]
     },
     "execution_count": 45,
     "metadata": {},
     "output_type": "execute_result"
    },
    {
     "data": {
      "image/png": "[encoded data removed]",
      "text/plain": [
       "<Figure size 432x288 with 1 Axes>"
      ]
     },
     "metadata": {},
     "output_type": "display_data"
    }
   ],
   "source": [
    "sns.countplot(x='renal_chronic', data = icuDF)"
   ]
  },
  {
   "cell_type": "code",
   "execution_count": null,
   "id": "dbc7785d",
   "metadata": {},
   "outputs": [],
   "source": [
    "We can infer that, there are more patients without chronic renal disease"
   ]
  },
  {
   "cell_type": "markdown",
   "id": "05e54ee4",
   "metadata": {},
   "source": [
    "#### Insight on tobacco"
   ]
  },
  {
   "cell_type": "code",
   "execution_count": 46,
   "id": "b4e99bfe",
   "metadata": {},
   "outputs": [
    {
     "data": {
      "text/plain": [
       "<AxesSubplot:xlabel='tobacco', ylabel='count'>"
      ]
     },
     "execution_count": 46,
     "metadata": {},
     "output_type": "execute_result"
    },
    {
     "data": {
      "image/png": "[encoded data removed]",
      "text/plain": [
       "<Figure size 432x288 with 1 Axes>"
      ]
     },
     "metadata": {},
     "output_type": "display_data"
    }
   ],
   "source": [
    "sns.countplot(x='tobacco', data = icuDF)"
   ]
  },
  {
   "cell_type": "code",
   "execution_count": null,
   "id": "0b660a01",
   "metadata": {},
   "outputs": [],
   "source": [
    "We have more patients that are not tobacco users"
   ]
  },
  {
   "cell_type": "markdown",
   "id": "269e2ba3",
   "metadata": {},
   "source": [
    "#### Insight on covid_res"
   ]
  },
  {
   "cell_type": "code",
   "execution_count": 47,
   "id": "51ef1dc1",
   "metadata": {},
   "outputs": [
    {
     "data": {
      "text/plain": [
       "<AxesSubplot:xlabel='covid_res', ylabel='count'>"
      ]
     },
     "execution_count": 47,
     "metadata": {},
     "output_type": "execute_result"
    },
    {
     "data": {
      "image/png": "[encoded data removed]",
      "text/plain": [
       "<Figure size 432x288 with 1 Axes>"
      ]
     },
     "metadata": {},
     "output_type": "display_data"
    }
   ],
   "source": [
    "sns.countplot(x='covid_res', data = icuDF)"
   ]
  },
  {
   "cell_type": "code",
   "execution_count": null,
   "id": "b0e1d768",
   "metadata": {},
   "outputs": [],
   "source": [
    "There are more patients that are covid positive"
   ]
  },
  {
   "cell_type": "markdown",
   "id": "18c46942",
   "metadata": {},
   "source": [
    "#### Bivariate analysis"
   ]
  },
  {
   "cell_type": "markdown",
   "id": "24daecff",
   "metadata": {},
   "source": [
    "#### icu vs sex"
   ]
  },
  {
   "cell_type": "code",
   "execution_count": 16,
   "id": "c17c986c",
   "metadata": {},
   "outputs": [
    {
     "data": {
      "text/plain": [
       "Text(0.5, 0, 'Intensive Care Unit')"
      ]
     },
     "execution_count": 16,
     "metadata": {},
     "output_type": "execute_result"
    },
    {
     "data": {
      "image/png": "[encoded data removed]",
      "text/plain": [
       "<Figure size 432x288 with 1 Axes>"
      ]
     },
     "metadata": {},
     "output_type": "display_data"
    }
   ],
   "source": [
    "sns.set_theme(style='whitegrid')\n",
    "sns.countplot(x='icu', hue='sex', data = icuDF)\n",
    "plt.title('Proportion of Gender in ICU', fontsize = 13, weight='bold')\n",
    "plt.xlabel('Intensive Care Unit', fontsize = 12, weight='bold')"
   ]
  },
  {
   "cell_type": "code",
   "execution_count": null,
   "id": "1fe87a85",
   "metadata": {},
   "outputs": [],
   "source": [
    "The analysis shows that the proportion of males admitted in Intensive care unit is more than the females.\n",
    "Then for non-admission in the Intensive care unit, the proportion of males are still more."
   ]
  },
  {
   "cell_type": "markdown",
   "id": "74b44928",
   "metadata": {},
   "source": [
    "#### icu vs intubed"
   ]
  },
  {
   "cell_type": "code",
   "execution_count": 17,
   "id": "8b26e3ff",
   "metadata": {},
   "outputs": [
    {
     "data": {
      "text/plain": [
       "Text(0.5, 0, 'Intensive Care Unit')"
      ]
     },
     "execution_count": 17,
     "metadata": {},
     "output_type": "execute_result"
    },
    {
     "data": {
      "image/png": "[encoded data removed]",
      "text/plain": [
       "<Figure size 432x288 with 1 Axes>"
      ]
     },
     "metadata": {},
     "output_type": "display_data"
    }
   ],
   "source": [
    "sns.countplot(x='icu', hue='intubed', data = icuDF)\n",
    "plt.title('Usage of Ventilators in ICU', fontsize = 13, weight='bold')\n",
    "plt.xlabel('Intensive Care Unit', fontsize = 12, weight='bold')"
   ]
  },
  {
   "cell_type": "code",
   "execution_count": null,
   "id": "2f05c892",
   "metadata": {},
   "outputs": [],
   "source": [
    "We can infer that, when on-admission in the Intensive Care Unit, the proportion of patients that used ventilators is same with\n",
    "those that did not use. But outside or when not admitted in the intensive Care Unit, those that did not use ventilators are more.\n",
    "When can deduce that Ventilators are needed more in the ICU for admitted patients."
   ]
  },
  {
   "cell_type": "markdown",
   "id": "40fcf206",
   "metadata": {},
   "source": [
    "#### ICU VS Pneumonia"
   ]
  },
  {
   "cell_type": "code",
   "execution_count": 26,
   "id": "6dd7deff",
   "metadata": {},
   "outputs": [
    {
     "data": {
      "text/plain": [
       "<matplotlib.legend.Legend at 0x251d1d7b460>"
      ]
     },
     "execution_count": 26,
     "metadata": {},
     "output_type": "execute_result"
    },
    {
     "data": {
      "image/png": "[encoded data removed]",
      "text/plain": [
       "<Figure size 432x288 with 1 Axes>"
      ]
     },
     "metadata": {},
     "output_type": "display_data"
    }
   ],
   "source": [
    "sns.countplot(x='icu', hue='pneumonia', data = icuDF)\n",
    "plt.title('Proportion of Pnuemonia patients in ICU', fontsize = 13, weight='bold')\n",
    "plt.xlabel('Intensive Care Unit', fontsize = 12, weight='bold')\n",
    "plt.legend(loc='upper left')"
   ]
  },
  {
   "cell_type": "code",
   "execution_count": null,
   "id": "689095c3",
   "metadata": {},
   "outputs": [],
   "source": [
    "The analysis shows that the patients with pnuemonia are more during admission and out of admission in the Intensive Care Unit.\n",
    "We can deduce that Pnuemonia is a very serious ailment prevalent with the patients in that hospital/area/community."
   ]
  },
  {
   "cell_type": "markdown",
   "id": "36292687",
   "metadata": {},
   "source": [
    "#### ICU VS Diabetes"
   ]
  },
  {
   "cell_type": "code",
   "execution_count": 36,
   "id": "7f4d0889",
   "metadata": {},
   "outputs": [
    {
     "data": {
      "text/plain": [
       "<matplotlib.legend.Legend at 0x251c92e5d90>"
      ]
     },
     "execution_count": 36,
     "metadata": {},
     "output_type": "execute_result"
    },
    {
     "data": {
      "image/png": "[encoded data removed]",
      "text/plain": [
       "<Figure size 432x288 with 1 Axes>"
      ]
     },
     "metadata": {},
     "output_type": "display_data"
    }
   ],
   "source": [
    "sns.countplot(x='icu', hue='diabetes', data = icuDF)\n",
    "plt.title('Proportion of Diabetes patients in ICU', fontsize = 13, weight='bold')\n",
    "plt.xlabel('Intensive Care Unit', fontsize = 12, weight='bold')\n",
    "plt.legend(loc='upper left')"
   ]
  },
  {
   "cell_type": "code",
   "execution_count": null,
   "id": "d3f7cbd5",
   "metadata": {},
   "outputs": [],
   "source": [
    "We can deduce that the patients with no diabetes are more during admission and non-admission in the Intensive Care Unit"
   ]
  },
  {
   "cell_type": "markdown",
   "id": "d356237b",
   "metadata": {},
   "source": [
    "#### ICU VS Covid_res"
   ]
  },
  {
   "cell_type": "code",
   "execution_count": 42,
   "id": "bc7d6f38",
   "metadata": {},
   "outputs": [
    {
     "name": "stderr",
     "output_type": "stream",
     "text": [
      "C:\\Users\\USER\\anaconda3\\lib\\site-packages\\seaborn\\_decorators.py:36: FutureWarning: Pass the following variable as a keyword arg: x. From version 0.12, the only valid positional argument will be `data`, and passing other arguments without an explicit keyword will result in an error or misinterpretation.\n",
      "  warnings.warn(\n"
     ]
    },
    {
     "data": {
      "image/png": "[encoded data removed]",
      "text/plain": [
       "<Figure size 1080x360 with 3 Axes>"
      ]
     },
     "metadata": {},
     "output_type": "display_data"
    }
   ],
   "source": [
    "g = sns.catplot(\"icu\", col=\"covid_res\", col_wrap=3, data=icuDF, kind=\"count\", height=5, aspect=1, legend_out=True)\n",
    "plt.show()"
   ]
  },
  {
   "cell_type": "code",
   "execution_count": null,
   "id": "e425de95",
   "metadata": {},
   "outputs": [],
   "source": [
    "We can see the proportion of the covid results. We can deduce that patients wih positive covid results are more in proportion\n",
    "during admission and out of admission. This shows that there is high rate of covid"
   ]
  },
  {
   "cell_type": "code",
   "execution_count": null,
   "id": "8f7c4e69",
   "metadata": {},
   "outputs": [],
   "source": [
    "In Summary\n",
    "\n",
    "Exploratory data analysis EDA was carried out. icu was selected as the Target variable.\n",
    "\n",
    "With univariate analysis we can infer;\n",
    "\n",
    "1. Insights showed that much of the patients are not admitted at Intensive care unit.\n",
    "2. Analysis on the gender showed that we have more male patients than female.\n",
    "3. We can infer with the given data, that all of the patients are hospitalized.\n",
    "4. We can infer that much of the patients did not use ventilator\n",
    "5. Insight on data shows that the patients with pneumonia is more than those without.\n",
    "6. We can infer that there are more patients with an unspecified pregnancy status.\n",
    "7. Inference shows that most of the patients does not have diabetes or the number of patients without diabetes are much more than \n",
    "    those without.\n",
    "8. Insight shows that there are more patients without chronic obstructive plumonary disease than the rest.\n",
    "9. Most of the patients do not have asthma.\n",
    "10.Most of the patients are not immunosuppressed\n",
    "11.There are more patients that does not have hypertension\n",
    "12. Most of the patients does not have other_disease.\n",
    "13.  Most of the patients has no cardiovascular disease\n",
    "14. There are more patients that are not obese\n",
    "15.  There are more patients without chronic renal disease\n",
    "16.  Most of the patients are not tobacco users\n",
    "17.  Most of the patients are covid positive\n",
    "\n",
    "On Bivariate analysis;\n",
    "\n",
    "1. The analysis shows that the proportion of males admitted in Intensive care unit is more than the females.Then for \n",
    "   non-admission in the Intensive care unit, the proportion of males are still more.\n",
    "2. We can infer that, when on-admission in the Intensive Care Unit, the proportion of patients that used ventilators is same with\n",
    "those that did not use. But outside or when not admitted in the intensive Care Unit, those that did not use ventilators are more.\n",
    "When can deduce that Ventilators are needed more in the ICU for admitted patients.\n",
    "3. The analysis shows that the patients with pnuemonia are more during admission and out of admission in the Intensive Care Unit.\n",
    "We can deduce that Pnuemonia is a very serious ailment prevalent with the patients in that hospital/area/community.\n",
    "4. We can deduce that the patients with no diabetes are more during admission and non-admission in the Intensive Care Unit\n",
    "5. We can see the proportion of the covid results. We can deduce that patients wih positive covid results are more in proportion\n",
    "during admission and out of admission. This shows that there is high rate of covid.\n"
   ]
  }
 ],
 "metadata": {
  "kernelspec": {
   "display_name": "Python 3",
   "language": "python",
   "name": "python3"
  },
  "language_info": {
   "codemirror_mode": {
    "name": "ipython",
    "version": 3
   },
   "file_extension": ".py",
   "mimetype": "text/x-python",
   "name": "python",
   "nbconvert_exporter": "python",
   "pygments_lexer": "ipython3",
   "version": "3.8.8"
  }
 },
 "nbformat": 4,
 "nbformat_minor": 5
}
